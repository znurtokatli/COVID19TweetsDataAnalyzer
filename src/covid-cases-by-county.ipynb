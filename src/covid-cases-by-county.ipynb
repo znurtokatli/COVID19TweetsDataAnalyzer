{
 "cells": [
  {
   "cell_type": "code",
   "execution_count": 4,
   "id": "guilty-thing",
   "metadata": {},
   "outputs": [],
   "source": [
    "#import dependencies\n",
    "import pandas as pd\n",
    "import numpy as np\n",
    "import matplotlib.pyplot as plt\n",
    "import datetime\n",
    "import requests\n",
    "import gmaps\n",
    "import os\n",
    "import pprint\n",
    "from api_keys import g_key"
   ]
  },
  {
   "cell_type": "code",
   "execution_count": 5,
   "id": "meaningful-subcommittee",
   "metadata": {},
   "outputs": [
    {
     "data": {
      "text/plain": [
       "date      991917\n",
       "county    991917\n",
       "state     991917\n",
       "fips      982704\n",
       "cases     991917\n",
       "deaths    970582\n",
       "dtype: int64"
      ]
     },
     "execution_count": 5,
     "metadata": {},
     "output_type": "execute_result"
    }
   ],
   "source": [
    "#read csv file\n",
    "Covid_county=pd.read_csv('Resources/Counties.csv')\n",
    "Covid_county.count()"
   ]
  },
  {
   "cell_type": "code",
   "execution_count": 6,
   "id": "liable-rocket",
   "metadata": {},
   "outputs": [],
   "source": [
    "#Filter dataframe to North Carolina and also to Mecklenburg County\n",
    "NC_County = Covid_county[Covid_county.state == \"North Carolina\"]\n"
   ]
  },
  {
   "cell_type": "code",
   "execution_count": 7,
   "id": "gorgeous-tablet",
   "metadata": {},
   "outputs": [
    {
     "data": {
      "text/html": [
       "<div>\n",
       "<style scoped>\n",
       "    .dataframe tbody tr th:only-of-type {\n",
       "        vertical-align: middle;\n",
       "    }\n",
       "\n",
       "    .dataframe tbody tr th {\n",
       "        vertical-align: top;\n",
       "    }\n",
       "\n",
       "    .dataframe thead th {\n",
       "        text-align: right;\n",
       "    }\n",
       "</style>\n",
       "<table border=\"1\" class=\"dataframe\">\n",
       "  <thead>\n",
       "    <tr style=\"text-align: right;\">\n",
       "      <th></th>\n",
       "      <th>date</th>\n",
       "      <th>county</th>\n",
       "      <th>state</th>\n",
       "      <th>fips</th>\n",
       "      <th>cases</th>\n",
       "      <th>deaths</th>\n",
       "    </tr>\n",
       "  </thead>\n",
       "  <tbody>\n",
       "    <tr>\n",
       "      <th>483</th>\n",
       "      <td>2020-03-03</td>\n",
       "      <td>Wake</td>\n",
       "      <td>North Carolina</td>\n",
       "      <td>37183.0</td>\n",
       "      <td>1</td>\n",
       "      <td>0.0</td>\n",
       "    </tr>\n",
       "    <tr>\n",
       "      <th>520</th>\n",
       "      <td>2020-03-04</td>\n",
       "      <td>Wake</td>\n",
       "      <td>North Carolina</td>\n",
       "      <td>37183.0</td>\n",
       "      <td>1</td>\n",
       "      <td>0.0</td>\n",
       "    </tr>\n",
       "    <tr>\n",
       "      <th>567</th>\n",
       "      <td>2020-03-05</td>\n",
       "      <td>Wake</td>\n",
       "      <td>North Carolina</td>\n",
       "      <td>37183.0</td>\n",
       "      <td>1</td>\n",
       "      <td>0.0</td>\n",
       "    </tr>\n",
       "    <tr>\n",
       "      <th>630</th>\n",
       "      <td>2020-03-06</td>\n",
       "      <td>Chatham</td>\n",
       "      <td>North Carolina</td>\n",
       "      <td>37037.0</td>\n",
       "      <td>1</td>\n",
       "      <td>0.0</td>\n",
       "    </tr>\n",
       "    <tr>\n",
       "      <th>631</th>\n",
       "      <td>2020-03-06</td>\n",
       "      <td>Wake</td>\n",
       "      <td>North Carolina</td>\n",
       "      <td>37183.0</td>\n",
       "      <td>1</td>\n",
       "      <td>0.0</td>\n",
       "    </tr>\n",
       "  </tbody>\n",
       "</table>\n",
       "</div>"
      ],
      "text/plain": [
       "           date   county           state     fips  cases  deaths\n",
       "483  2020-03-03     Wake  North Carolina  37183.0      1     0.0\n",
       "520  2020-03-04     Wake  North Carolina  37183.0      1     0.0\n",
       "567  2020-03-05     Wake  North Carolina  37183.0      1     0.0\n",
       "630  2020-03-06  Chatham  North Carolina  37037.0      1     0.0\n",
       "631  2020-03-06     Wake  North Carolina  37183.0      1     0.0"
      ]
     },
     "execution_count": 7,
     "metadata": {},
     "output_type": "execute_result"
    }
   ],
   "source": [
    "NC_County.head(5)"
   ]
  },
  {
   "cell_type": "code",
   "execution_count": 8,
   "id": "southwest-bennett",
   "metadata": {},
   "outputs": [],
   "source": [
    "NC_County = NC_County.drop(['fips'], axis=1)"
   ]
  },
  {
   "cell_type": "code",
   "execution_count": 9,
   "id": "endless-colony",
   "metadata": {},
   "outputs": [
    {
     "data": {
      "text/html": [
       "<div>\n",
       "<style scoped>\n",
       "    .dataframe tbody tr th:only-of-type {\n",
       "        vertical-align: middle;\n",
       "    }\n",
       "\n",
       "    .dataframe tbody tr th {\n",
       "        vertical-align: top;\n",
       "    }\n",
       "\n",
       "    .dataframe thead th {\n",
       "        text-align: right;\n",
       "    }\n",
       "</style>\n",
       "<table border=\"1\" class=\"dataframe\">\n",
       "  <thead>\n",
       "    <tr style=\"text-align: right;\">\n",
       "      <th></th>\n",
       "      <th>date</th>\n",
       "      <th>county</th>\n",
       "      <th>state</th>\n",
       "      <th>cases</th>\n",
       "      <th>deaths</th>\n",
       "      <th>Month</th>\n",
       "    </tr>\n",
       "  </thead>\n",
       "  <tbody>\n",
       "    <tr>\n",
       "      <th>195662</th>\n",
       "      <td>2020-05-31</td>\n",
       "      <td>Wake</td>\n",
       "      <td>North Carolina</td>\n",
       "      <td>1747</td>\n",
       "      <td>39.0</td>\n",
       "      <td>5</td>\n",
       "    </tr>\n",
       "  </tbody>\n",
       "</table>\n",
       "</div>"
      ],
      "text/plain": [
       "             date county           state  cases  deaths  Month\n",
       "195662 2020-05-31   Wake  North Carolina   1747    39.0      5"
      ]
     },
     "execution_count": 9,
     "metadata": {},
     "output_type": "execute_result"
    }
   ],
   "source": [
    "#Convert Date Column from object to datetime variable\n",
    "NC_County['date']=pd.to_datetime(NC_County['date'])\n",
    "\n",
    "#Filter from March to May \n",
    "NC_County['Month']= NC_County['date'].dt.month\n",
    "NC_County = NC_County[(NC_County['date'].dt.month == 3) | (NC_County['date'].dt.month == 4) | (NC_County['date'].dt.month == 5)]\n",
    "\n",
    "#Filter North Carolina to main counties(Charlotte , Raleigh, Asheville)\n",
    "CH_RA_AS_df = NC_County[(NC_County['county']  == 'Mecklenburg') | (NC_County['county']  == 'Wake') | (NC_County['county']  =='Buncombe')]\n",
    "CH_RA_AS_df.tail(1)\n"
   ]
  },
  {
   "cell_type": "code",
   "execution_count": 10,
   "id": "restricted-trust",
   "metadata": {},
   "outputs": [],
   "source": [
    "#Select the last column of the dataframe to obtain the total number of cases \n",
    "Mecklenburg_ = NC_County[(NC_County['county']  == 'Mecklenburg')].iloc[-1]\n",
    "Wake_ = NC_County[(NC_County['county']  == 'Wake')].iloc[-1]\n",
    "Buncombe_ = NC_County[(NC_County['county']  == 'Buncombe')].iloc[-1] \n",
    "MC=Mecklenburg_['cases']\n",
    "WC=Wake_['cases']\n",
    "BC=Buncombe_['cases']"
   ]
  },
  {
   "cell_type": "code",
   "execution_count": 12,
   "id": "private-louis",
   "metadata": {},
   "outputs": [
    {
     "data": {
      "text/html": [
       "<div>\n",
       "<style scoped>\n",
       "    .dataframe tbody tr th:only-of-type {\n",
       "        vertical-align: middle;\n",
       "    }\n",
       "\n",
       "    .dataframe tbody tr th {\n",
       "        vertical-align: top;\n",
       "    }\n",
       "\n",
       "    .dataframe thead th {\n",
       "        text-align: right;\n",
       "    }\n",
       "</style>\n",
       "<table border=\"1\" class=\"dataframe\">\n",
       "  <thead>\n",
       "    <tr style=\"text-align: right;\">\n",
       "      <th></th>\n",
       "      <th>Mecklenburg</th>\n",
       "      <th>Wake</th>\n",
       "      <th>Buncombe</th>\n",
       "    </tr>\n",
       "  </thead>\n",
       "  <tbody>\n",
       "    <tr>\n",
       "      <th>0</th>\n",
       "      <td>4250</td>\n",
       "      <td>1747</td>\n",
       "      <td>335</td>\n",
       "    </tr>\n",
       "  </tbody>\n",
       "</table>\n",
       "</div>"
      ],
      "text/plain": [
       "   Mecklenburg  Wake  Buncombe\n",
       "0         4250  1747       335"
      ]
     },
     "execution_count": 12,
     "metadata": {},
     "output_type": "execute_result"
    }
   ],
   "source": [
    "#Show the obtained results in a Dataframe\n",
    "Cities= {'Mecklenburg':[MC], 'Wake': [WC], 'Buncombe': [BC]}\n",
    "df=pd.DataFrame(data=Cities)\n",
    "df"
   ]
  },
  {
   "cell_type": "code",
   "execution_count": 13,
   "id": "laden-image",
   "metadata": {
    "scrolled": false
   },
   "outputs": [
    {
     "data": {
      "image/png": "[encoded data removed]",
      "text/plain": [
       "<Figure size 576x360 with 1 Axes>"
      ]
     },
     "metadata": {
      "needs_background": "light"
     },
     "output_type": "display_data"
    }
   ],
   "source": [
    "#Main Counties Bar Chart (Covid 19 Cases)\n",
    "plt.figure(figsize=(8,5))\n",
    "x_axis=[\"Mecklenburg\",\"Wake\",\"Buncombe\"] \n",
    "y_axis= [MC, WC, BC]\n",
    "plt.xlabel(\"Timeline from March to May\")\n",
    "plt.ylabel(\"Number of cases\")\n",
    "plt.title(\"Covid 19 Cases in the Main NC Counties\")\n",
    "plt.bar(x_axis,y_axis)\n",
    "plt.savefig(\"Covid 19 Cases in NC.png\")"
   ]
  },
  {
   "cell_type": "code",
   "execution_count": 14,
   "id": "robust-cisco",
   "metadata": {},
   "outputs": [],
   "source": [
    "#Covid related deaths in the main NC Cities\n",
    "MD=Mecklenburg_['deaths']\n",
    "WD=Wake_['deaths']\n",
    "BD=Buncombe_['deaths']"
   ]
  },
  {
   "cell_type": "code",
   "execution_count": 16,
   "id": "announced-convenience",
   "metadata": {},
   "outputs": [
    {
     "data": {
      "image/png": "[encoded data removed]",
      "text/plain": [
       "<Figure size 576x360 with 1 Axes>"
      ]
     },
     "metadata": {
      "needs_background": "light"
     },
     "output_type": "display_data"
    }
   ],
   "source": [
    "#Main Counties Bar Chart (Covid 19 Deaths)\n",
    "#Main Counties Bar Chart (Covid 19 Cases)\n",
    "plt.figure(figsize=(8,5))\n",
    "x_axis=[\"Mecklenburg\",\"Wake\",\"Buncombe\"] \n",
    "y_axis= [MD, WD, BD]\n",
    "plt.xlabel(\"Timeline from March to May\")\n",
    "plt.ylabel(\"Number of cases\")\n",
    "plt.title(\"Covid 19 Cases in the Main NC Counties\")\n",
    "plt.bar(x_axis,y_axis)\n",
    "plt.savefig(\"Covid 19 Deaths in NC.png\")"
   ]
  },
  {
   "cell_type": "code",
   "execution_count": 17,
   "id": "complicated-firewall",
   "metadata": {},
   "outputs": [
    {
     "data": {
      "text/plain": [
       "' The total number of deaths since March to May in Wake County are 39.0 deaths'"
      ]
     },
     "execution_count": 17,
     "metadata": {},
     "output_type": "execute_result"
    }
   ],
   "source": [
    "Wake_County = CH_RA_AS_df[(CH_RA_AS_df['county'] == 'Wake')]\n",
    "Wake_deaths = Wake_County['deaths'].max()\n",
    "f' The total number of deaths since March to May in Wake County are {Wake_deaths} deaths'"
   ]
  },
  {
   "cell_type": "code",
   "execution_count": 18,
   "id": "checked-organization",
   "metadata": {},
   "outputs": [
    {
     "data": {
      "text/plain": [
       "' The total number of deaths since March to May in Buncombe County are 23.0 deaths'"
      ]
     },
     "execution_count": 18,
     "metadata": {},
     "output_type": "execute_result"
    }
   ],
   "source": [
    "Buncombe_County = CH_RA_AS_df[(CH_RA_AS_df['county'] == 'Buncombe')]\n",
    "Buncombe_deaths = Buncombe_County['deaths'].max()\n",
    "f' The total number of deaths since March to May in Buncombe County are {Buncombe_deaths} deaths'"
   ]
  },
  {
   "cell_type": "code",
   "execution_count": 19,
   "id": "entertaining-happening",
   "metadata": {},
   "outputs": [
    {
     "data": {
      "text/plain": [
       "'Mecklenburg The total number of deaths since March to May in Wake County are 89.0 deaths'"
      ]
     },
     "execution_count": 19,
     "metadata": {},
     "output_type": "execute_result"
    }
   ],
   "source": [
    "Mecklenburg_County = CH_RA_AS_df[(CH_RA_AS_df['county'] == 'Mecklenburg')]\n",
    "Mecklenburg_deaths = Mecklenburg_County['deaths'].max()\n",
    "f'Mecklenburg The total number of deaths since March to May in Wake County are {Mecklenburg_deaths} deaths'"
   ]
  },
  {
   "cell_type": "code",
   "execution_count": 20,
   "id": "outside-colombia",
   "metadata": {},
   "outputs": [
    {
     "data": {
      "text/html": [
       "<div>\n",
       "<style scoped>\n",
       "    .dataframe tbody tr th:only-of-type {\n",
       "        vertical-align: middle;\n",
       "    }\n",
       "\n",
       "    .dataframe tbody tr th {\n",
       "        vertical-align: top;\n",
       "    }\n",
       "\n",
       "    .dataframe thead th {\n",
       "        text-align: right;\n",
       "    }\n",
       "</style>\n",
       "<table border=\"1\" class=\"dataframe\">\n",
       "  <thead>\n",
       "    <tr style=\"text-align: right;\">\n",
       "      <th></th>\n",
       "      <th>Counties</th>\n",
       "      <th>Lat</th>\n",
       "      <th>Lng</th>\n",
       "      <th>Deaths</th>\n",
       "    </tr>\n",
       "  </thead>\n",
       "  <tbody>\n",
       "    <tr>\n",
       "      <th>0</th>\n",
       "      <td>Mecklenburg</td>\n",
       "      <td>35.2271</td>\n",
       "      <td>-80.8431</td>\n",
       "      <td>89.0</td>\n",
       "    </tr>\n",
       "    <tr>\n",
       "      <th>1</th>\n",
       "      <td>Wake</td>\n",
       "      <td>35.8032</td>\n",
       "      <td>-78.5661</td>\n",
       "      <td>39.0</td>\n",
       "    </tr>\n",
       "    <tr>\n",
       "      <th>2</th>\n",
       "      <td>Buncombe</td>\n",
       "      <td>35.6100</td>\n",
       "      <td>-82.5300</td>\n",
       "      <td>23.0</td>\n",
       "    </tr>\n",
       "  </tbody>\n",
       "</table>\n",
       "</div>"
      ],
      "text/plain": [
       "      Counties      Lat      Lng  Deaths\n",
       "0  Mecklenburg  35.2271 -80.8431    89.0\n",
       "1         Wake  35.8032 -78.5661    39.0\n",
       "2     Buncombe  35.6100 -82.5300    23.0"
      ]
     },
     "execution_count": 20,
     "metadata": {},
     "output_type": "execute_result"
    }
   ],
   "source": [
    "Lat_Long={'Counties':['Mecklenburg','Wake','Buncombe'],\n",
    "          'Lat':['35.2271','35.8032','35.6100'],\n",
    "          'Lng':['-80.8431','-78.5661','-82.5300'],\n",
    "         'Deaths':[Mecklenburg_deaths, Wake_deaths, Buncombe_deaths ]}\n",
    "Counties_df = pd.DataFrame.from_dict(Lat_Long)\n",
    "Counties_df[\"Lat\"]=Counties_df.Lat.astype(float)\n",
    "Counties_df[\"Lng\"]=Counties_df.Lng.astype(float)\n",
    "Counties_df[\"Deaths\"]=Counties_df.Deaths.astype(float)\n",
    "Counties_df\n",
    "\n",
    "#weather[\"Temp\"] = weather.Temp.astype(float)"
   ]
  },
  {
   "cell_type": "code",
   "execution_count": 21,
   "id": "technological-vulnerability",
   "metadata": {},
   "outputs": [
    {
     "data": {
      "application/vnd.jupyter.widget-view+json": {
       "model_id": "dd7034b3ccc943f6a9af02c2ea6a6d68",
       "version_major": 2,
       "version_minor": 0
      },
      "text/plain": [
       "Figure(layout=FigureLayout(height='420px'))"
      ]
     },
     "metadata": {},
     "output_type": "display_data"
    }
   ],
   "source": [
    "gmaps.configure(api_key=g_key)\n",
    "locations=Counties_df[[\"Lat\", \"Lng\"]]\n",
    "weights_=Counties_df['Deaths']\n",
    "fig = gmaps.figure()\n",
    "fig.add_layer(gmaps.heatmap_layer(locations,weights=weights_,max_intensity=50, point_radius=50))\n",
    "fig"
   ]
  },
  {
   "cell_type": "code",
   "execution_count": null,
   "id": "qualified-valuation",
   "metadata": {},
   "outputs": [],
   "source": []
  }
 ],
 "metadata": {
  "kernelspec": {
   "display_name": "PhytonData",
   "language": "python",
   "name": "phytondata"
  },
  "language_info": {
   "codemirror_mode": {
    "name": "ipython",
    "version": 3
   },
   "file_extension": ".py",
   "mimetype": "text/x-python",
   "name": "python",
   "nbconvert_exporter": "python",
   "pygments_lexer": "ipython3",
   "version": "3.6.12"
  }
 },
 "nbformat": 4,
 "nbformat_minor": 5
}
