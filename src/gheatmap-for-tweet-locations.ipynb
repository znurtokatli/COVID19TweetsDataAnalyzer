{
 "cells": [
  {
   "cell_type": "code",
   "execution_count": null,
   "metadata": {},
   "outputs": [],
   "source": [
    "#"
   ]
  },
  {
   "cell_type": "code",
   "execution_count": 1,
   "metadata": {},
   "outputs": [],
   "source": [
    "# dependencies\n",
    "import pandas as pd \n",
    "import requests\n",
    "import json\n",
    "import gmaps\n",
    "import datetime\n",
    "import os\n",
    "import glob"
   ]
  },
  {
   "cell_type": "code",
   "execution_count": 79,
   "metadata": {},
   "outputs": [],
   "source": [
    "#map config\n",
    "from config import gkey \n",
    "base_url = \"https://maps.googleapis.com/maps/api/geocode/json?\" \n",
    "params = {\"key\": gkey}  "
   ]
  },
  {
   "cell_type": "code",
   "execution_count": 49,
   "metadata": {},
   "outputs": [],
   "source": [
    "# this function returns raw tweet data by given month\n",
    "def raw_data_by_month(month):\n",
    "    \n",
    "    #curr_path = os.getcwd() \n",
    "    #print(curr_path)\n",
    "    \n",
    "    #os.chdir(r'../Resources/twitterapi/')  \n",
    "\n",
    "    files = [i for i in glob.glob('{}*.{}'.format(month,'csv'))] \n",
    "\n",
    "    raw_df = pd.concat([pd.read_csv(f) for f in files ])  \n",
    "    \n",
    "    return raw_df"
   ]
  },
  {
   "cell_type": "code",
   "execution_count": 135,
   "metadata": {},
   "outputs": [],
   "source": [
    "# this function filters&groups dataframe\n",
    "def filter_data(raw_df):\n",
    "    \n",
    "    filtered_df = raw_df.loc[:, ['id', 'user_location']] \n",
    "    filtered_df = filtered_df[filtered_df['user_location'].notna()]\n",
    "    \n",
    "    # filter nc state\n",
    "    location_suffixes = (', nc', ',nc', 'n.c.', 'n.c', ', north carolina')\n",
    "\n",
    "    filtered_df = filtered_df[filtered_df['user_location'].str.lower().str.endswith(location_suffixes) ]  \n",
    " \n",
    "    #group by data for google api request #iterrow\n",
    "    filtered_df = filtered_df.groupby('user_location')['id'].count().to_frame().reset_index()\n",
    "    #ex: df.groupby('product')['value'].sum().to_frame().reset_index()\n",
    "    \n",
    "    #reset index  \n",
    "    #filtered_df.reset_index() \n",
    "    #del filtered_df['index'] \n",
    "    \n",
    "    return filtered_df"
   ]
  },
  {
   "cell_type": "code",
   "execution_count": 165,
   "metadata": {},
   "outputs": [],
   "source": [
    "def append_geocode_to_df(grouped_df):\n",
    "\n",
    "    for index, row in filtered_df.iterrows():\n",
    "        place = row['user_location'] \n",
    " \n",
    "        params['address'] = f\"{place}\" \n",
    "    \n",
    "        resp_data = requests.get(base_url, params = params).json() \n",
    "        #print(resp_data)\n",
    "\n",
    "        try: \n",
    "            #if resp_data['results'][0] is None:\n",
    "            #    print('None')\n",
    "            grouped_df.loc[index, 'Latitude']  = resp_data['results'][0]['geometry']['location']['lat']\n",
    "            grouped_df.loc[index, 'Longitude'] = resp_data['results'][0]['geometry']['location']['lng'] \n",
    "        except (KeyError, IndexError):\n",
    "            print(\"missing result. skipping\")\n",
    "            pass\n",
    "\n",
    "    grouped_df = grouped_df.dropna()\n",
    "    return grouped_df"
   ]
  },
  {
   "cell_type": "code",
   "execution_count": 166,
   "metadata": {},
   "outputs": [
    {
     "name": "stderr",
     "output_type": "stream",
     "text": [
      "/Users/znurtokatli/opt/anaconda3/lib/python3.8/site-packages/IPython/core/interactiveshell.py:3418: DtypeWarning: Columns (0) have mixed types.Specify dtype option on import or set low_memory=False.\n",
      "  exec(code_obj, self.user_global_ns, self.user_ns)\n"
     ]
    },
    {
     "data": {
      "text/html": [
       "<div>\n",
       "<style scoped>\n",
       "    .dataframe tbody tr th:only-of-type {\n",
       "        vertical-align: middle;\n",
       "    }\n",
       "\n",
       "    .dataframe tbody tr th {\n",
       "        vertical-align: top;\n",
       "    }\n",
       "\n",
       "    .dataframe thead th {\n",
       "        text-align: right;\n",
       "    }\n",
       "</style>\n",
       "<table border=\"1\" class=\"dataframe\">\n",
       "  <thead>\n",
       "    <tr style=\"text-align: right;\">\n",
       "      <th></th>\n",
       "      <th>user_location</th>\n",
       "      <th>id</th>\n",
       "      <th>Latitude</th>\n",
       "      <th>Longitude</th>\n",
       "    </tr>\n",
       "  </thead>\n",
       "  <tbody>\n",
       "    <tr>\n",
       "      <th>0</th>\n",
       "      <td>3rd rock, NA, USA, NC</td>\n",
       "      <td>2</td>\n",
       "      <td>35.227087</td>\n",
       "      <td>-80.843127</td>\n",
       "    </tr>\n",
       "    <tr>\n",
       "      <th>1</th>\n",
       "      <td>806 W. Main Street; Durham, NC</td>\n",
       "      <td>1</td>\n",
       "      <td>36.072635</td>\n",
       "      <td>-79.791975</td>\n",
       "    </tr>\n",
       "    <tr>\n",
       "      <th>2</th>\n",
       "      <td>AVL, NC</td>\n",
       "      <td>1</td>\n",
       "      <td>35.779590</td>\n",
       "      <td>-78.638179</td>\n",
       "    </tr>\n",
       "    <tr>\n",
       "      <th>3</th>\n",
       "      <td>Alamance, NC</td>\n",
       "      <td>1</td>\n",
       "      <td>35.227087</td>\n",
       "      <td>-80.843127</td>\n",
       "    </tr>\n",
       "  </tbody>\n",
       "</table>\n",
       "</div>"
      ],
      "text/plain": [
       "                    user_location  id   Latitude  Longitude\n",
       "0           3rd rock, NA, USA, NC   2  35.227087 -80.843127\n",
       "1  806 W. Main Street; Durham, NC   1  36.072635 -79.791975\n",
       "2                         AVL, NC   1  35.779590 -78.638179\n",
       "3                    Alamance, NC   1  35.227087 -80.843127"
      ]
     },
     "execution_count": 166,
     "metadata": {},
     "output_type": "execute_result"
    }
   ],
   "source": [
    "march_df = raw_data_by_month('03')\n",
    "march_df = filter_data(march_df)\n",
    "march_df = append_geocode_to_df(march_df)  \n",
    "\n",
    "march_df.head()"
   ]
  },
  {
   "cell_type": "code",
   "execution_count": 167,
   "metadata": {},
   "outputs": [
    {
     "data": {
      "text/plain": [
       "4"
      ]
     },
     "execution_count": 167,
     "metadata": {},
     "output_type": "execute_result"
    }
   ],
   "source": [
    "april_df = raw_data_by_month('04')\n",
    "april_df = filter_data(april_df)\n",
    "april_df = append_geocode_to_df(april_df) \n",
    "\n",
    "len(april_df)"
   ]
  },
  {
   "cell_type": "code",
   "execution_count": 168,
   "metadata": {},
   "outputs": [
    {
     "name": "stderr",
     "output_type": "stream",
     "text": [
      "/Users/znurtokatli/opt/anaconda3/lib/python3.8/site-packages/IPython/core/interactiveshell.py:3418: DtypeWarning: Columns (0) have mixed types.Specify dtype option on import or set low_memory=False.\n",
      "  exec(code_obj, self.user_global_ns, self.user_ns)\n"
     ]
    },
    {
     "data": {
      "text/plain": [
       "4"
      ]
     },
     "execution_count": 168,
     "metadata": {},
     "output_type": "execute_result"
    }
   ],
   "source": [
    "may_df = raw_data_by_month('05')\n",
    "may_df = filter_data(may_df)\n",
    "may_df = append_geocode_to_df(may_df) \n",
    "\n",
    "len(may_df)"
   ]
  },
  {
   "cell_type": "code",
   "execution_count": 162,
   "metadata": {},
   "outputs": [],
   "source": []
  },
  {
   "cell_type": "code",
   "execution_count": 171,
   "metadata": {},
   "outputs": [],
   "source": [
    "# map func\n",
    "def draw_map(month_df):\n",
    "    \n",
    "    loc_df = month_df[[\"Latitude\", \"Longitude\"]].astype(float)\n",
    "    \n",
    "    gmaps.configure(api_key = gkey)\n",
    "    map_figure = gmaps.figure()\n",
    "\n",
    "    layer = gmaps.heatmap_layer(loc_df, weights = month_df['id'], dissipating = False, \n",
    "                                max_intensity = month_df['id'].max(), point_radius = 0.5, opacity = 0.3)\n",
    "\n",
    "    map_figure.add_layer(layer)\n",
    "    \n",
    "    return map_figure\n",
    "    "
   ]
  },
  {
   "cell_type": "code",
   "execution_count": 172,
   "metadata": {},
   "outputs": [
    {
     "data": {
      "application/vnd.jupyter.widget-view+json": {
       "model_id": "abf5c4e60e0944f590236537862fd7a8",
       "version_major": 2,
       "version_minor": 0
      },
      "text/plain": [
       "Figure(layout=FigureLayout(height='420px'))"
      ]
     },
     "metadata": {},
     "output_type": "display_data"
    }
   ],
   "source": [
    "draw_map(march_df) "
   ]
  },
  {
   "cell_type": "code",
   "execution_count": 173,
   "metadata": {},
   "outputs": [
    {
     "data": {
      "application/vnd.jupyter.widget-view+json": {
       "model_id": "5b2e070220c84e3bb92018d30e4b7554",
       "version_major": 2,
       "version_minor": 0
      },
      "text/plain": [
       "Figure(layout=FigureLayout(height='420px'))"
      ]
     },
     "metadata": {},
     "output_type": "display_data"
    }
   ],
   "source": [
    "draw_map(april_df) "
   ]
  },
  {
   "cell_type": "code",
   "execution_count": 174,
   "metadata": {},
   "outputs": [
    {
     "data": {
      "application/vnd.jupyter.widget-view+json": {
       "model_id": "33aee45c82194fcb8c7952b94240613a",
       "version_major": 2,
       "version_minor": 0
      },
      "text/plain": [
       "Figure(layout=FigureLayout(height='420px'))"
      ]
     },
     "metadata": {},
     "output_type": "display_data"
    }
   ],
   "source": [
    "draw_map(may_df) "
   ]
  },
  {
   "cell_type": "code",
   "execution_count": null,
   "metadata": {},
   "outputs": [],
   "source": []
  }
 ],
 "metadata": {
  "kernelspec": {
   "display_name": "Python 3",
   "language": "python",
   "name": "python3"
  },
  "language_info": {
   "codemirror_mode": {
    "name": "ipython",
    "version": 3
   },
   "file_extension": ".py",
   "mimetype": "text/x-python",
   "name": "python",
   "nbconvert_exporter": "python",
   "pygments_lexer": "ipython3",
   "version": "3.8.5"
  }
 },
 "nbformat": 4,
 "nbformat_minor": 4
}
