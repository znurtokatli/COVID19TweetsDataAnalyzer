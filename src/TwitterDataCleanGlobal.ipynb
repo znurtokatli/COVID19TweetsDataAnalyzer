{
 "cells": [
  {
   "cell_type": "code",
   "execution_count": 1,
   "metadata": {},
   "outputs": [],
   "source": [
    "# Dependencies\n",
    "import pandas as pd\n",
    "import matplotlib.pyplot as plt\n",
    "import scipy.stats as st\n",
    "import numpy as np"
   ]
  },
  {
   "cell_type": "code",
   "execution_count": 2,
   "metadata": {},
   "outputs": [],
   "source": [
    "# Store filepath in a variable\n",
    "twitter = \"TwitterDec_Feb.csv\""
   ]
  },
  {
   "cell_type": "code",
   "execution_count": 3,
   "metadata": {
    "scrolled": true
   },
   "outputs": [
    {
     "data": {
      "text/html": [
       "<div>\n",
       "<style scoped>\n",
       "    .dataframe tbody tr th:only-of-type {\n",
       "        vertical-align: middle;\n",
       "    }\n",
       "\n",
       "    .dataframe tbody tr th {\n",
       "        vertical-align: top;\n",
       "    }\n",
       "\n",
       "    .dataframe thead th {\n",
       "        text-align: right;\n",
       "    }\n",
       "</style>\n",
       "<table border=\"1\" class=\"dataframe\">\n",
       "  <thead>\n",
       "    <tr style=\"text-align: right;\">\n",
       "      <th></th>\n",
       "      <th>Tweet Id</th>\n",
       "      <th>Tweet URL</th>\n",
       "      <th>Tweet Posted Time (UTC)</th>\n",
       "      <th>Tweet Content</th>\n",
       "      <th>Tweet Type</th>\n",
       "      <th>Client</th>\n",
       "      <th>Retweets Received</th>\n",
       "      <th>Likes Received</th>\n",
       "      <th>Tweet Location</th>\n",
       "      <th>Lat</th>\n",
       "      <th>...</th>\n",
       "      <th>User Id</th>\n",
       "      <th>Name</th>\n",
       "      <th>Screen Name</th>\n",
       "      <th>User Bio</th>\n",
       "      <th>Verified or Non-Verified</th>\n",
       "      <th>Profile URL</th>\n",
       "      <th>Protected or Non-protected</th>\n",
       "      <th>User Followers</th>\n",
       "      <th>User Following</th>\n",
       "      <th>User Account Creation Date</th>\n",
       "    </tr>\n",
       "  </thead>\n",
       "  <tbody>\n",
       "    <tr>\n",
       "      <th>0</th>\n",
       "      <td>\"1233417783175778304\"</td>\n",
       "      <td>https://twitter.com/Giussi92/status/1233417783...</td>\n",
       "      <td>2/28/2020 15:44</td>\n",
       "      <td>Also the entire Swiss Football League is on ho...</td>\n",
       "      <td>Tweet</td>\n",
       "      <td>Twitter for iPhone</td>\n",
       "      <td>0</td>\n",
       "      <td>0</td>\n",
       "      <td>NaN</td>\n",
       "      <td>NaN</td>\n",
       "      <td>...</td>\n",
       "      <td>\"1556856595\"</td>\n",
       "      <td>Giuseppe Gentile</td>\n",
       "      <td>Giussi92</td>\n",
       "      <td>NaN</td>\n",
       "      <td>Verified</td>\n",
       "      <td>https://twitter.com/Giussi92</td>\n",
       "      <td>Non-Protected</td>\n",
       "      <td>3071</td>\n",
       "      <td>100</td>\n",
       "      <td>6/30/2013 0:27</td>\n",
       "    </tr>\n",
       "    <tr>\n",
       "      <th>1</th>\n",
       "      <td>\"1233417742520332290\"</td>\n",
       "      <td>https://twitter.com/LAMofficial/status/1233417...</td>\n",
       "      <td>2/28/2020 15:44</td>\n",
       "      <td>World Health Org Official: Trumpâs press con...</td>\n",
       "      <td>Tweet</td>\n",
       "      <td>Twitter Web App</td>\n",
       "      <td>0</td>\n",
       "      <td>0</td>\n",
       "      <td>Los Angeles CA USA</td>\n",
       "      <td>NaN</td>\n",
       "      <td>...</td>\n",
       "      <td>\"113738369\"</td>\n",
       "      <td>London After Midnight</td>\n",
       "      <td>LAMofficial</td>\n",
       "      <td>London After Midnight is a music project by wr...</td>\n",
       "      <td>Verified</td>\n",
       "      <td>https://twitter.com/LAMofficial</td>\n",
       "      <td>Non-Protected</td>\n",
       "      <td>4189</td>\n",
       "      <td>84</td>\n",
       "      <td>2/12/2010 21:43</td>\n",
       "    </tr>\n",
       "    <tr>\n",
       "      <th>2</th>\n",
       "      <td>\"1233417741027225602\"</td>\n",
       "      <td>https://twitter.com/mitchellvii/status/1233417...</td>\n",
       "      <td>2/28/2020 15:44</td>\n",
       "      <td>I mean, Liberals are cheer-leading this #Coron...</td>\n",
       "      <td>Tweet</td>\n",
       "      <td>Twitter Web App</td>\n",
       "      <td>23</td>\n",
       "      <td>64</td>\n",
       "      <td>Miami, FL</td>\n",
       "      <td>NaN</td>\n",
       "      <td>...</td>\n",
       "      <td>\"17980523\"</td>\n",
       "      <td>Bill Mitchell</td>\n",
       "      <td>mitchellvii</td>\n",
       "      <td>Host of YourVoiceâ¢ America at http://yourvoi...</td>\n",
       "      <td>Verified</td>\n",
       "      <td>https://twitter.com/mitchellvii</td>\n",
       "      <td>Non-Protected</td>\n",
       "      <td>534045</td>\n",
       "      <td>10037</td>\n",
       "      <td>12/9/2008 1:54</td>\n",
       "    </tr>\n",
       "    <tr>\n",
       "      <th>3</th>\n",
       "      <td>\"1233417699264356357\"</td>\n",
       "      <td>https://twitter.com/HelenKennedy/status/123341...</td>\n",
       "      <td>2/28/2020 15:44</td>\n",
       "      <td>Under repeated questioning, Pompeo refuses to ...</td>\n",
       "      <td>Tweet</td>\n",
       "      <td>Twitter for iPhone</td>\n",
       "      <td>4</td>\n",
       "      <td>11</td>\n",
       "      <td>NYC and the North Fork</td>\n",
       "      <td>NaN</td>\n",
       "      <td>...</td>\n",
       "      <td>\"2199541\"</td>\n",
       "      <td>Helen Kennedy</td>\n",
       "      <td>HelenKennedy</td>\n",
       "      <td>Newspaperman (ex NY Daily News &amp;amp; Boston He...</td>\n",
       "      <td>Verified</td>\n",
       "      <td>https://twitter.com/HelenKennedy</td>\n",
       "      <td>Non-Protected</td>\n",
       "      <td>27704</td>\n",
       "      <td>1060</td>\n",
       "      <td>3/25/2007 19:14</td>\n",
       "    </tr>\n",
       "    <tr>\n",
       "      <th>4</th>\n",
       "      <td>\"1233417674274807808\"</td>\n",
       "      <td>https://twitter.com/W7VOA/status/1233417674274...</td>\n",
       "      <td>2/28/2020 15:44</td>\n",
       "      <td>#coronavirus comments now from @larry_kudlow h...</td>\n",
       "      <td>Tweet</td>\n",
       "      <td>Twitter for iPhone</td>\n",
       "      <td>0</td>\n",
       "      <td>0</td>\n",
       "      <td>James S. Brady Press Briefing Room</td>\n",
       "      <td>NaN</td>\n",
       "      <td>...</td>\n",
       "      <td>\"17919393\"</td>\n",
       "      <td>Steve Herman</td>\n",
       "      <td>W7VOA</td>\n",
       "      <td>@WhiteHouse bureau chief @VOANews. Member: @aa...</td>\n",
       "      <td>Verified</td>\n",
       "      <td>https://twitter.com/W7VOA</td>\n",
       "      <td>Non-Protected</td>\n",
       "      <td>94269</td>\n",
       "      <td>1999</td>\n",
       "      <td>12/6/2008 8:56</td>\n",
       "    </tr>\n",
       "  </tbody>\n",
       "</table>\n",
       "<p>5 rows × 22 columns</p>\n",
       "</div>"
      ],
      "text/plain": [
       "                Tweet Id                                          Tweet URL  \\\n",
       "0  \"1233417783175778304\"  https://twitter.com/Giussi92/status/1233417783...   \n",
       "1  \"1233417742520332290\"  https://twitter.com/LAMofficial/status/1233417...   \n",
       "2  \"1233417741027225602\"  https://twitter.com/mitchellvii/status/1233417...   \n",
       "3  \"1233417699264356357\"  https://twitter.com/HelenKennedy/status/123341...   \n",
       "4  \"1233417674274807808\"  https://twitter.com/W7VOA/status/1233417674274...   \n",
       "\n",
       "  Tweet Posted Time (UTC)                                      Tweet Content  \\\n",
       "0         2/28/2020 15:44  Also the entire Swiss Football League is on ho...   \n",
       "1         2/28/2020 15:44  World Health Org Official: Trumpâs press con...   \n",
       "2         2/28/2020 15:44  I mean, Liberals are cheer-leading this #Coron...   \n",
       "3         2/28/2020 15:44  Under repeated questioning, Pompeo refuses to ...   \n",
       "4         2/28/2020 15:44  #coronavirus comments now from @larry_kudlow h...   \n",
       "\n",
       "  Tweet Type              Client  Retweets Received  Likes Received  \\\n",
       "0      Tweet  Twitter for iPhone                  0               0   \n",
       "1      Tweet     Twitter Web App                  0               0   \n",
       "2      Tweet     Twitter Web App                 23              64   \n",
       "3      Tweet  Twitter for iPhone                  4              11   \n",
       "4      Tweet  Twitter for iPhone                  0               0   \n",
       "\n",
       "                       Tweet Location  Lat  ...       User Id  \\\n",
       "0                                 NaN  NaN  ...  \"1556856595\"   \n",
       "1                  Los Angeles CA USA  NaN  ...   \"113738369\"   \n",
       "2                           Miami, FL  NaN  ...    \"17980523\"   \n",
       "3              NYC and the North Fork  NaN  ...     \"2199541\"   \n",
       "4  James S. Brady Press Briefing Room  NaN  ...    \"17919393\"   \n",
       "\n",
       "                    Name   Screen Name  \\\n",
       "0       Giuseppe Gentile      Giussi92   \n",
       "1  London After Midnight   LAMofficial   \n",
       "2          Bill Mitchell   mitchellvii   \n",
       "3          Helen Kennedy  HelenKennedy   \n",
       "4           Steve Herman         W7VOA   \n",
       "\n",
       "                                            User Bio Verified or Non-Verified  \\\n",
       "0                                                NaN                 Verified   \n",
       "1  London After Midnight is a music project by wr...                 Verified   \n",
       "2  Host of YourVoiceâ¢ America at http://yourvoi...                 Verified   \n",
       "3  Newspaperman (ex NY Daily News &amp; Boston He...                 Verified   \n",
       "4  @WhiteHouse bureau chief @VOANews. Member: @aa...                 Verified   \n",
       "\n",
       "                        Profile URL Protected or Non-protected User Followers  \\\n",
       "0      https://twitter.com/Giussi92              Non-Protected           3071   \n",
       "1   https://twitter.com/LAMofficial              Non-Protected           4189   \n",
       "2   https://twitter.com/mitchellvii              Non-Protected         534045   \n",
       "3  https://twitter.com/HelenKennedy              Non-Protected          27704   \n",
       "4         https://twitter.com/W7VOA              Non-Protected          94269   \n",
       "\n",
       "  User Following  User Account Creation Date  \n",
       "0            100              6/30/2013 0:27  \n",
       "1             84             2/12/2010 21:43  \n",
       "2          10037              12/9/2008 1:54  \n",
       "3           1060             3/25/2007 19:14  \n",
       "4           1999              12/6/2008 8:56  \n",
       "\n",
       "[5 rows x 22 columns]"
      ]
     },
     "execution_count": 3,
     "metadata": {},
     "output_type": "execute_result"
    }
   ],
   "source": [
    "# Bring in twitter data from CSV\n",
    "twitter_df = pd.read_csv(twitter, encoding=\"ISO-8859-1\")\n",
    "\n",
    "# Show just the header\n",
    "twitter_df.head()"
   ]
  },
  {
   "cell_type": "code",
   "execution_count": 4,
   "metadata": {},
   "outputs": [
    {
     "name": "stderr",
     "output_type": "stream",
     "text": [
      "C:\\Users\\ljean\\anaconda3\\envs\\PythonData2\\lib\\site-packages\\ipykernel_launcher.py:3: SettingWithCopyWarning: \n",
      "A value is trying to be set on a copy of a slice from a DataFrame\n",
      "\n",
      "See the caveats in the documentation: https://pandas.pydata.org/pandas-docs/stable/user_guide/indexing.html#returning-a-view-versus-a-copy\n",
      "  This is separate from the ipykernel package so we can avoid doing imports until\n"
     ]
    },
    {
     "data": {
      "text/html": [
       "<div>\n",
       "<style scoped>\n",
       "    .dataframe tbody tr th:only-of-type {\n",
       "        vertical-align: middle;\n",
       "    }\n",
       "\n",
       "    .dataframe tbody tr th {\n",
       "        vertical-align: top;\n",
       "    }\n",
       "\n",
       "    .dataframe thead th {\n",
       "        text-align: right;\n",
       "    }\n",
       "</style>\n",
       "<table border=\"1\" class=\"dataframe\">\n",
       "  <thead>\n",
       "    <tr style=\"text-align: right;\">\n",
       "      <th></th>\n",
       "      <th>Retweets Received</th>\n",
       "      <th>Likes Received</th>\n",
       "    </tr>\n",
       "  </thead>\n",
       "  <tbody>\n",
       "    <tr>\n",
       "      <th>count</th>\n",
       "      <td>40620.000000</td>\n",
       "      <td>40620.000000</td>\n",
       "    </tr>\n",
       "    <tr>\n",
       "      <th>mean</th>\n",
       "      <td>3.416347</td>\n",
       "      <td>6.265657</td>\n",
       "    </tr>\n",
       "    <tr>\n",
       "      <th>std</th>\n",
       "      <td>47.974017</td>\n",
       "      <td>77.388210</td>\n",
       "    </tr>\n",
       "    <tr>\n",
       "      <th>min</th>\n",
       "      <td>0.000000</td>\n",
       "      <td>0.000000</td>\n",
       "    </tr>\n",
       "    <tr>\n",
       "      <th>25%</th>\n",
       "      <td>0.000000</td>\n",
       "      <td>0.000000</td>\n",
       "    </tr>\n",
       "    <tr>\n",
       "      <th>50%</th>\n",
       "      <td>0.000000</td>\n",
       "      <td>0.000000</td>\n",
       "    </tr>\n",
       "    <tr>\n",
       "      <th>75%</th>\n",
       "      <td>0.000000</td>\n",
       "      <td>0.000000</td>\n",
       "    </tr>\n",
       "    <tr>\n",
       "      <th>max</th>\n",
       "      <td>5469.000000</td>\n",
       "      <td>6543.000000</td>\n",
       "    </tr>\n",
       "  </tbody>\n",
       "</table>\n",
       "</div>"
      ],
      "text/plain": [
       "       Retweets Received  Likes Received\n",
       "count       40620.000000    40620.000000\n",
       "mean            3.416347        6.265657\n",
       "std            47.974017       77.388210\n",
       "min             0.000000        0.000000\n",
       "25%             0.000000        0.000000\n",
       "50%             0.000000        0.000000\n",
       "75%             0.000000        0.000000\n",
       "max          5469.000000     6543.000000"
      ]
     },
     "execution_count": 4,
     "metadata": {},
     "output_type": "execute_result"
    }
   ],
   "source": [
    "#Initial cleaning of data to drop NaNs, blanks, and only pull back needed columns\n",
    "newtwitter_df = twitter_df[[\"Tweet Posted Time (UTC)\", \"Tweet Content\", \"Retweets Received\", \"Likes Received\", \"Tweet Location\"]]\n",
    "newtwitter_df.dropna(inplace = True) \n",
    "newtwitter_df.describe()"
   ]
  },
  {
   "cell_type": "code",
   "execution_count": 5,
   "metadata": {},
   "outputs": [
    {
     "name": "stderr",
     "output_type": "stream",
     "text": [
      "C:\\Users\\ljean\\anaconda3\\envs\\PythonData2\\lib\\site-packages\\ipykernel_launcher.py:2: SettingWithCopyWarning: \n",
      "A value is trying to be set on a copy of a slice from a DataFrame.\n",
      "Try using .loc[row_indexer,col_indexer] = value instead\n",
      "\n",
      "See the caveats in the documentation: https://pandas.pydata.org/pandas-docs/stable/user_guide/indexing.html#returning-a-view-versus-a-copy\n",
      "  \n",
      "C:\\Users\\ljean\\anaconda3\\envs\\PythonData2\\lib\\site-packages\\ipykernel_launcher.py:3: SettingWithCopyWarning: \n",
      "A value is trying to be set on a copy of a slice from a DataFrame.\n",
      "Try using .loc[row_indexer,col_indexer] = value instead\n",
      "\n",
      "See the caveats in the documentation: https://pandas.pydata.org/pandas-docs/stable/user_guide/indexing.html#returning-a-view-versus-a-copy\n",
      "  This is separate from the ipykernel package so we can avoid doing imports until\n"
     ]
    },
    {
     "data": {
      "text/plain": [
       "Date Posted          object\n",
       "Retweets Received     int64\n",
       "Likes Received        int64\n",
       "Tweet Location       object\n",
       "Tweet Content        object\n",
       "dtype: object"
      ]
     },
     "execution_count": 5,
     "metadata": {},
     "output_type": "execute_result"
    }
   ],
   "source": [
    "#Seperate date from timestamp\n",
    "newtwitter_df['Tweet Posted Time (UTC)'] = pd.to_datetime(newtwitter_df['Tweet Posted Time (UTC)'])\n",
    "newtwitter_df['Date Posted'] = newtwitter_df['Tweet Posted Time (UTC)'].dt.date\n",
    "\n",
    "date_twitter_df = newtwitter_df[['Date Posted', 'Retweets Received', \"Likes Received\",\"Tweet Location\",\"Tweet Content\"]]\n",
    "date_twitter_df.dtypes"
   ]
  },
  {
   "cell_type": "code",
   "execution_count": 6,
   "metadata": {},
   "outputs": [
    {
     "name": "stderr",
     "output_type": "stream",
     "text": [
      "C:\\Users\\ljean\\anaconda3\\envs\\PythonData2\\lib\\site-packages\\ipykernel_launcher.py:2: SettingWithCopyWarning: \n",
      "A value is trying to be set on a copy of a slice from a DataFrame.\n",
      "Try using .loc[row_indexer,col_indexer] = value instead\n",
      "\n",
      "See the caveats in the documentation: https://pandas.pydata.org/pandas-docs/stable/user_guide/indexing.html#returning-a-view-versus-a-copy\n",
      "  \n"
     ]
    },
    {
     "data": {
      "text/plain": [
       "Date Posted          datetime64[ns]\n",
       "Retweets Received             int64\n",
       "Likes Received                int64\n",
       "Tweet Location               object\n",
       "Tweet Content                object\n",
       "dtype: object"
      ]
     },
     "execution_count": 6,
     "metadata": {},
     "output_type": "execute_result"
    }
   ],
   "source": [
    "#Convert Date Column from object to datetime variable\n",
    "date_twitter_df['Date Posted']=pd.to_datetime(date_twitter_df['Date Posted'])\n",
    "date_twitter_df.dtypes\n"
   ]
  },
  {
   "cell_type": "code",
   "execution_count": 7,
   "metadata": {
    "scrolled": true
   },
   "outputs": [
    {
     "data": {
      "text/html": [
       "<div>\n",
       "<style scoped>\n",
       "    .dataframe tbody tr th:only-of-type {\n",
       "        vertical-align: middle;\n",
       "    }\n",
       "\n",
       "    .dataframe tbody tr th {\n",
       "        vertical-align: top;\n",
       "    }\n",
       "\n",
       "    .dataframe thead th {\n",
       "        text-align: right;\n",
       "    }\n",
       "</style>\n",
       "<table border=\"1\" class=\"dataframe\">\n",
       "  <thead>\n",
       "    <tr style=\"text-align: right;\">\n",
       "      <th></th>\n",
       "      <th>Date Posted</th>\n",
       "      <th>Month</th>\n",
       "      <th>Retweets Received</th>\n",
       "      <th>Likes Received</th>\n",
       "      <th>Tweet Location</th>\n",
       "      <th>Tweet Content</th>\n",
       "    </tr>\n",
       "  </thead>\n",
       "  <tbody>\n",
       "    <tr>\n",
       "      <th>1</th>\n",
       "      <td>2020-02-28</td>\n",
       "      <td>2</td>\n",
       "      <td>0</td>\n",
       "      <td>0</td>\n",
       "      <td>Los Angeles CA USA</td>\n",
       "      <td>World Health Org Official: Trumpâs press con...</td>\n",
       "    </tr>\n",
       "    <tr>\n",
       "      <th>2</th>\n",
       "      <td>2020-02-28</td>\n",
       "      <td>2</td>\n",
       "      <td>23</td>\n",
       "      <td>64</td>\n",
       "      <td>Miami, FL</td>\n",
       "      <td>I mean, Liberals are cheer-leading this #Coron...</td>\n",
       "    </tr>\n",
       "    <tr>\n",
       "      <th>3</th>\n",
       "      <td>2020-02-28</td>\n",
       "      <td>2</td>\n",
       "      <td>4</td>\n",
       "      <td>11</td>\n",
       "      <td>NYC and the North Fork</td>\n",
       "      <td>Under repeated questioning, Pompeo refuses to ...</td>\n",
       "    </tr>\n",
       "    <tr>\n",
       "      <th>4</th>\n",
       "      <td>2020-02-28</td>\n",
       "      <td>2</td>\n",
       "      <td>0</td>\n",
       "      <td>0</td>\n",
       "      <td>James S. Brady Press Briefing Room</td>\n",
       "      <td>#coronavirus comments now from @larry_kudlow h...</td>\n",
       "    </tr>\n",
       "    <tr>\n",
       "      <th>6</th>\n",
       "      <td>2020-02-28</td>\n",
       "      <td>2</td>\n",
       "      <td>3</td>\n",
       "      <td>9</td>\n",
       "      <td>NY/Delhi/Rio/Beijing/Nairobi/Joburg/London</td>\n",
       "      <td>âDisease can emerge everywhere. Coronaviruse...</td>\n",
       "    </tr>\n",
       "    <tr>\n",
       "      <th>...</th>\n",
       "      <td>...</td>\n",
       "      <td>...</td>\n",
       "      <td>...</td>\n",
       "      <td>...</td>\n",
       "      <td>...</td>\n",
       "      <td>...</td>\n",
       "    </tr>\n",
       "    <tr>\n",
       "      <th>60152</th>\n",
       "      <td>2019-12-10</td>\n",
       "      <td>12</td>\n",
       "      <td>0</td>\n",
       "      <td>0</td>\n",
       "      <td>MatarÃ³, EspaÃ±a</td>\n",
       "      <td>Mediante microscopÃ­a electrÃ³nica, investigad...</td>\n",
       "    </tr>\n",
       "    <tr>\n",
       "      <th>60154</th>\n",
       "      <td>2019-12-10</td>\n",
       "      <td>12</td>\n",
       "      <td>0</td>\n",
       "      <td>0</td>\n",
       "      <td>The Lair of the Beast</td>\n",
       "      <td>RT @timhquotes: It's my party, you're invited!...</td>\n",
       "    </tr>\n",
       "    <tr>\n",
       "      <th>60157</th>\n",
       "      <td>2019-12-10</td>\n",
       "      <td>12</td>\n",
       "      <td>2</td>\n",
       "      <td>28</td>\n",
       "      <td>Jackson Hole, WY</td>\n",
       "      <td>It's my party, you're invited!\\n\\nPS, this is ...</td>\n",
       "    </tr>\n",
       "    <tr>\n",
       "      <th>60158</th>\n",
       "      <td>2019-12-03</td>\n",
       "      <td>12</td>\n",
       "      <td>1</td>\n",
       "      <td>17</td>\n",
       "      <td>Chapel Hill, NC</td>\n",
       "      <td>Amyâs a survivor! #bariclab #pnnl #movingon ...</td>\n",
       "    </tr>\n",
       "    <tr>\n",
       "      <th>60159</th>\n",
       "      <td>2019-12-01</td>\n",
       "      <td>12</td>\n",
       "      <td>0</td>\n",
       "      <td>0</td>\n",
       "      <td>USA</td>\n",
       "      <td>A review of asymptomatic and sub-clinical Midd...</td>\n",
       "    </tr>\n",
       "  </tbody>\n",
       "</table>\n",
       "<p>40620 rows × 6 columns</p>\n",
       "</div>"
      ],
      "text/plain": [
       "      Date Posted  Month  Retweets Received  Likes Received  \\\n",
       "1      2020-02-28      2                  0               0   \n",
       "2      2020-02-28      2                 23              64   \n",
       "3      2020-02-28      2                  4              11   \n",
       "4      2020-02-28      2                  0               0   \n",
       "6      2020-02-28      2                  3               9   \n",
       "...           ...    ...                ...             ...   \n",
       "60152  2019-12-10     12                  0               0   \n",
       "60154  2019-12-10     12                  0               0   \n",
       "60157  2019-12-10     12                  2              28   \n",
       "60158  2019-12-03     12                  1              17   \n",
       "60159  2019-12-01     12                  0               0   \n",
       "\n",
       "                                   Tweet Location  \\\n",
       "1                              Los Angeles CA USA   \n",
       "2                                       Miami, FL   \n",
       "3                          NYC and the North Fork   \n",
       "4              James S. Brady Press Briefing Room   \n",
       "6      NY/Delhi/Rio/Beijing/Nairobi/Joburg/London   \n",
       "...                                           ...   \n",
       "60152                            MatarÃ³, EspaÃ±a   \n",
       "60154                       The Lair of the Beast   \n",
       "60157                            Jackson Hole, WY   \n",
       "60158                             Chapel Hill, NC   \n",
       "60159                                         USA   \n",
       "\n",
       "                                           Tweet Content  \n",
       "1      World Health Org Official: Trumpâs press con...  \n",
       "2      I mean, Liberals are cheer-leading this #Coron...  \n",
       "3      Under repeated questioning, Pompeo refuses to ...  \n",
       "4      #coronavirus comments now from @larry_kudlow h...  \n",
       "6      âDisease can emerge everywhere. Coronaviruse...  \n",
       "...                                                  ...  \n",
       "60152  Mediante microscopÃ­a electrÃ³nica, investigad...  \n",
       "60154  RT @timhquotes: It's my party, you're invited!...  \n",
       "60157  It's my party, you're invited!\\n\\nPS, this is ...  \n",
       "60158  Amyâs a survivor! #bariclab #pnnl #movingon ...  \n",
       "60159  A review of asymptomatic and sub-clinical Midd...  \n",
       "\n",
       "[40620 rows x 6 columns]"
      ]
     },
     "execution_count": 7,
     "metadata": {},
     "output_type": "execute_result"
    }
   ],
   "source": [
    "#Add additional column to group months in clearer fashion\n",
    "date_twitter_df['Month']= date_twitter_df['Date Posted'].dt.month\n",
    "cln_date_df = date_twitter_df[(date_twitter_df['Date Posted'].dt.month == 12)\\\n",
    "                              | (date_twitter_df['Date Posted'].dt.month == 1)\\\n",
    "                              | (date_twitter_df['Date Posted'].dt.month == 2)]\n",
    "\n",
    "cln_tweets_df = cln_date_df[['Date Posted', \"Month\", 'Retweets Received', \"Likes Received\",\\\n",
    "                            \"Tweet Location\",\"Tweet Content\"]]\n",
    "\n",
    "cln_tweets_df"
   ]
  },
  {
   "cell_type": "code",
   "execution_count": null,
   "metadata": {},
   "outputs": [],
   "source": [
    "################DO NOT USE THIS GRAPH########################\n",
    "\n",
    "#Scatterplot for retweets overtime Perform the linear regression on the scatter plot\n",
    "date = cln_tweets_df[\"Month\"]\n",
    "retweets = cln_tweets_df[\"Retweets Received\"]\n",
    "\n",
    "(slope, intercept, rvalue, pvalue, stderr) = st.linregress(date, retweets)\n",
    "regress_values = date * slope + intercept\n",
    "line_eq = \"y = \" + str(round(slope,2)) + \"x + \" + str(round(intercept,2))\n",
    "plt.scatter(date, retweets)\n",
    "plt.plot(date, regress_values,\"r-\")\n",
    "plt.annotate(line_eq,(18,36),fontsize=15,color=\"red\")\n",
    "\n",
    "# Set the limits of the x axis\n",
    "plt.xlim(0, 3)\n",
    "\n",
    "# Set the limits of the y axis\n",
    "plt.ylim(0, max(retweets)+0.4)\n",
    "\n",
    "plt.title('Retweet Number by Date (Dec. 2019 - Feb. 2020)')\n",
    "plt.xlabel('Date')\n",
    "plt.ylabel('Retweet Number')\n",
    "plt.show()"
   ]
  },
  {
   "cell_type": "code",
   "execution_count": 8,
   "metadata": {},
   "outputs": [
    {
     "data": {
      "text/html": [
       "<div>\n",
       "<style scoped>\n",
       "    .dataframe tbody tr th:only-of-type {\n",
       "        vertical-align: middle;\n",
       "    }\n",
       "\n",
       "    .dataframe tbody tr th {\n",
       "        vertical-align: top;\n",
       "    }\n",
       "\n",
       "    .dataframe thead th {\n",
       "        text-align: right;\n",
       "    }\n",
       "</style>\n",
       "<table border=\"1\" class=\"dataframe\">\n",
       "  <thead>\n",
       "    <tr style=\"text-align: right;\">\n",
       "      <th></th>\n",
       "      <th>Total Count</th>\n",
       "    </tr>\n",
       "    <tr>\n",
       "      <th>Date Posted</th>\n",
       "      <th></th>\n",
       "    </tr>\n",
       "  </thead>\n",
       "  <tbody>\n",
       "    <tr>\n",
       "      <th>2020-02-17</th>\n",
       "      <td>1491</td>\n",
       "    </tr>\n",
       "    <tr>\n",
       "      <th>2020-02-20</th>\n",
       "      <td>483</td>\n",
       "    </tr>\n",
       "    <tr>\n",
       "      <th>2020-02-21</th>\n",
       "      <td>2294</td>\n",
       "    </tr>\n",
       "    <tr>\n",
       "      <th>2020-02-25</th>\n",
       "      <td>455</td>\n",
       "    </tr>\n",
       "    <tr>\n",
       "      <th>2020-02-28</th>\n",
       "      <td>881</td>\n",
       "    </tr>\n",
       "  </tbody>\n",
       "</table>\n",
       "</div>"
      ],
      "text/plain": [
       "             Total Count\n",
       "Date Posted             \n",
       "2020-02-17          1491\n",
       "2020-02-20           483\n",
       "2020-02-21          2294\n",
       "2020-02-25           455\n",
       "2020-02-28           881"
      ]
     },
     "execution_count": 8,
     "metadata": {},
     "output_type": "execute_result"
    }
   ],
   "source": [
    "#Create Original Tweet Dataframe\n",
    "org_tweet = cln_tweets_df.groupby([\"Date Posted\"])\n",
    "group_tweet = org_tweet[\"Date Posted\"].count()\n",
    "group_tweet\n",
    "\n",
    "tweet_analysis = pd.DataFrame({\n",
    "    \"Total Count\" : group_tweet})\n",
    "\n",
    "tweet_analysis.tail(5)\n"
   ]
  },
  {
   "cell_type": "code",
   "execution_count": 9,
   "metadata": {},
   "outputs": [
    {
     "data": {
      "image/png": "[encoded data removed]",
      "text/plain": [
       "<Figure size 432x288 with 1 Axes>"
      ]
     },
     "metadata": {
      "needs_background": "light"
     },
     "output_type": "display_data"
    },
    {
     "data": {
      "text/plain": [
       "<Figure size 432x288 with 0 Axes>"
      ]
     },
     "metadata": {},
     "output_type": "display_data"
    }
   ],
   "source": [
    "#Bar Chart showing number of original tweets\n",
    "plt.bar(tweet_analysis.index.values, tweet_analysis[\"Total Count\"],color='r', alpha=0.65, align=\"center\" )\n",
    "plt.xticks(rotation=90)\n",
    "plt.xlim(18278, 18321)\n",
    "\n",
    "#Label Bar Chart\n",
    "plt.title(\"Number of Origninal Covid-19 Tweets Jan-Feb 2020\")\n",
    "plt.xlabel(\"Date of Tweet Activity\")\n",
    "plt.ylabel(\"Original Tweet Number\")\n",
    "\n",
    "plt.savefig(\"TwitterActivity.png\")\n",
    "plt.show()\n",
    "plt.tight_layout()"
   ]
  },
  {
   "cell_type": "code",
   "execution_count": 11,
   "metadata": {},
   "outputs": [
    {
     "data": {
      "image/png": "[encoded data removed]",
      "text/plain": [
       "<Figure size 432x288 with 1 Axes>"
      ]
     },
     "metadata": {
      "needs_background": "light"
     },
     "output_type": "display_data"
    },
    {
     "data": {
      "text/plain": [
       "<Figure size 432x288 with 0 Axes>"
      ]
     },
     "metadata": {},
     "output_type": "display_data"
    }
   ],
   "source": [
    "#Bar Chart showing progression or retweets\n",
    "cln_tweets_df\n",
    "plt.bar(cln_tweets_df[\"Date Posted\"], cln_tweets_df[\"Retweets Received\"], color='r', alpha=0.65, align=\"center\")\n",
    "\n",
    "plt.xticks(rotation=90)\n",
    "plt.xlim(18278, 18321)\n",
    "\n",
    "# Set the limits of the y axis\n",
    "plt.ylim(0, 6000)\n",
    "\n",
    "#Label Bar Chart\n",
    "plt.title(\"Covid-19 Retweets Jan - Feb 2020\")\n",
    "plt.xlabel(\"Date of Retweet Activity\")\n",
    "plt.ylabel(\"Number of Retweets Received\")\n",
    "\n",
    "plt.savefig(\"TwitterRetweets.png\")\n",
    "plt.show()\n",
    "plt.tight_layout()"
   ]
  },
  {
   "cell_type": "code",
   "execution_count": 12,
   "metadata": {},
   "outputs": [
    {
     "data": {
      "image/png": "[encoded data removed]",
      "text/plain": [
       "<Figure size 432x288 with 1 Axes>"
      ]
     },
     "metadata": {
      "needs_background": "light"
     },
     "output_type": "display_data"
    },
    {
     "data": {
      "text/plain": [
       "<Figure size 432x288 with 0 Axes>"
      ]
     },
     "metadata": {},
     "output_type": "display_data"
    }
   ],
   "source": [
    "# Generate a bar plot showing liked tweets.\n",
    "cln_tweets_df\n",
    "plt.bar(cln_tweets_df[\"Date Posted\"], cln_tweets_df[\"Likes Received\"], color='r', alpha=0.65, align=\"center\")\n",
    "plt.xticks(rotation=90)\n",
    "plt.xlim(18278, 18321)\n",
    "\n",
    "#Label Bar Chart\n",
    "plt.title(\"Covid-19 Tweet Likes  Jan-Feb 2020\")\n",
    "plt.xlabel(\"Date of Like Activity\")\n",
    "plt.ylabel(\"Number of Likes Received\")\n",
    "\n",
    "plt.savefig(\"TwitterLikes.png\")\n",
    "plt.show()\n",
    "plt.tight_layout()"
   ]
  },
  {
   "cell_type": "code",
   "execution_count": 13,
   "metadata": {},
   "outputs": [
    {
     "data": {
      "image/png": "[encoded data removed]",
      "text/plain": [
       "<Figure size 1440x288 with 1 Axes>"
      ]
     },
     "metadata": {
      "needs_background": "light"
     },
     "output_type": "display_data"
    },
    {
     "data": {
      "text/plain": [
       "<Figure size 1440x288 with 0 Axes>"
      ]
     },
     "metadata": {},
     "output_type": "display_data"
    }
   ],
   "source": [
    "#Create a line chart with all three tweet types\n",
    "plt.figure(figsize=(20,4))\n",
    "plt.xticks(rotation=90)\n",
    "plt.xlim(18278, 18321)\n",
    "\n",
    "#plot original tweets\n",
    "x_axis = tweet_analysis.index.values\n",
    "points = tweet_analysis[\"Total Count\"]\n",
    "Original_Tweets, = plt.plot(x_axis, points, color=\"blue\", alpha=0.65,label=\"Original Tweets\")\n",
    "\n",
    "#plot liked tweets\n",
    "x2 = cln_tweets_df[\"Date Posted\"]\n",
    "points2 = cln_tweets_df[\"Likes Received\"]\n",
    "Liked_Tweets, = plt.plot(x2, points2, color=\"red\", alpha=0.65,label=\"Liked Tweets\")\n",
    "\n",
    "#plot retweets\n",
    "x3 = cln_tweets_df[\"Date Posted\"]\n",
    "points3 = cln_tweets_df[\"Retweets Received\"]\n",
    "ReTweets, = plt.plot(x3, points3, color=\"green\", alpha=0.65, label=\"ReTweets\")\n",
    "\n",
    "plt.title(\"Twitter Covid-19 Activity Dec. 2029 - Feb 2020\")\n",
    "plt.xlabel(\"Date\")\n",
    "plt.ylabel(\"Tweet Activity Count\")\n",
    "\n",
    "plt.legend(handles=[Original_Tweets, Liked_Tweets, ReTweets], loc=\"best\")\n",
    "\n",
    "plt.figure(figsize=(20,4))\n",
    "plt.savefig(\"TwitterActivity.png\")\n",
    "plt.show()\n"
   ]
  }
 ],
 "metadata": {
  "anaconda-cloud": {},
  "kernelspec": {
   "display_name": "PythonData2",
   "language": "python",
   "name": "pythondata2"
  },
  "language_info": {
   "codemirror_mode": {
    "name": "ipython",
    "version": 3
   },
   "file_extension": ".py",
   "mimetype": "text/x-python",
   "name": "python",
   "nbconvert_exporter": "python",
   "pygments_lexer": "ipython3",
   "version": "3.7.9"
  }
 },
 "nbformat": 4,
 "nbformat_minor": 2
}
